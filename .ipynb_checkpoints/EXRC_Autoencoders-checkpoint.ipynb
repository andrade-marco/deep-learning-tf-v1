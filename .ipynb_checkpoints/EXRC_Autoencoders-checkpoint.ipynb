{
 "cells": [
  {
   "cell_type": "markdown",
   "metadata": {},
   "source": [
    "# Linear Autoencoder for PCA - EXERCISE \n",
    "\n",
    "** Follow the bold instructions below to reduce a 30 dimensional data set for classification into a 2-dimensional dataset! Then use the color classes to see if you still kept the same level of class separation in the dimensionality reduction**"
   ]
  },
  {
   "cell_type": "markdown",
   "metadata": {},
   "source": [
    "## The Data\n",
    "\n",
    "** Import numpy, matplotlib, and pandas**"
   ]
  },
  {
   "cell_type": "code",
   "execution_count": 1,
   "metadata": {},
   "outputs": [],
   "source": [
    "import numpy as np\n",
    "import matplotlib.pyplot as plt\n",
    "import pandas as pd\n",
    "\n",
    "%matplotlib inline"
   ]
  },
  {
   "cell_type": "markdown",
   "metadata": {},
   "source": [
    "** Use pandas to read in the csv file called anonymized_data.csv . It contains 500 rows and 30 columns of anonymized data along with 1 last column with a classification label, where the columns have been renamed to 4 letter codes.**"
   ]
  },
  {
   "cell_type": "code",
   "execution_count": 8,
   "metadata": {},
   "outputs": [],
   "source": [
    "data = pd.read_csv(\"./tensorflow_course_resources/05-Autoencoders/anonymized_data.csv\")\n",
    "x_data = data.drop(columns=\"Label\", axis=1)"
   ]
  },
  {
   "cell_type": "code",
   "execution_count": 10,
   "metadata": {},
   "outputs": [
    {
     "data": {
      "text/html": [
       "<div>\n",
       "<style scoped>\n",
       "    .dataframe tbody tr th:only-of-type {\n",
       "        vertical-align: middle;\n",
       "    }\n",
       "\n",
       "    .dataframe tbody tr th {\n",
       "        vertical-align: top;\n",
       "    }\n",
       "\n",
       "    .dataframe thead th {\n",
       "        text-align: right;\n",
       "    }\n",
       "</style>\n",
       "<table border=\"1\" class=\"dataframe\">\n",
       "  <thead>\n",
       "    <tr style=\"text-align: right;\">\n",
       "      <th></th>\n",
       "      <th>EJWY</th>\n",
       "      <th>VALM</th>\n",
       "      <th>EGXO</th>\n",
       "      <th>HTGR</th>\n",
       "      <th>SKRF</th>\n",
       "      <th>NNSZ</th>\n",
       "      <th>NYLC</th>\n",
       "      <th>GWID</th>\n",
       "      <th>TVUT</th>\n",
       "      <th>CJHI</th>\n",
       "      <th>...</th>\n",
       "      <th>WDRT</th>\n",
       "      <th>LKKS</th>\n",
       "      <th>UOBF</th>\n",
       "      <th>VBHE</th>\n",
       "      <th>FRWU</th>\n",
       "      <th>NDYZ</th>\n",
       "      <th>QSBO</th>\n",
       "      <th>JDUB</th>\n",
       "      <th>TEVK</th>\n",
       "      <th>EZTM</th>\n",
       "    </tr>\n",
       "  </thead>\n",
       "  <tbody>\n",
       "    <tr>\n",
       "      <th>0</th>\n",
       "      <td>-2.032145</td>\n",
       "      <td>1.019576</td>\n",
       "      <td>-9.658715</td>\n",
       "      <td>-6.210495</td>\n",
       "      <td>3.156823</td>\n",
       "      <td>7.457850</td>\n",
       "      <td>-5.313357</td>\n",
       "      <td>8.508296</td>\n",
       "      <td>3.959194</td>\n",
       "      <td>-5.246654</td>\n",
       "      <td>...</td>\n",
       "      <td>4.048589</td>\n",
       "      <td>-2.209663</td>\n",
       "      <td>-10.340123</td>\n",
       "      <td>-7.697555</td>\n",
       "      <td>-5.932752</td>\n",
       "      <td>10.872688</td>\n",
       "      <td>0.081321</td>\n",
       "      <td>1.276316</td>\n",
       "      <td>5.281225</td>\n",
       "      <td>-0.516447</td>\n",
       "    </tr>\n",
       "    <tr>\n",
       "      <th>1</th>\n",
       "      <td>8.306217</td>\n",
       "      <td>6.649376</td>\n",
       "      <td>-0.960333</td>\n",
       "      <td>-4.094799</td>\n",
       "      <td>8.738965</td>\n",
       "      <td>-3.458797</td>\n",
       "      <td>7.016800</td>\n",
       "      <td>6.692765</td>\n",
       "      <td>0.898264</td>\n",
       "      <td>9.337643</td>\n",
       "      <td>...</td>\n",
       "      <td>4.341376</td>\n",
       "      <td>0.851793</td>\n",
       "      <td>-9.678324</td>\n",
       "      <td>-6.071795</td>\n",
       "      <td>1.428194</td>\n",
       "      <td>-8.082792</td>\n",
       "      <td>-0.557089</td>\n",
       "      <td>-7.817282</td>\n",
       "      <td>-8.686722</td>\n",
       "      <td>-6.953100</td>\n",
       "    </tr>\n",
       "    <tr>\n",
       "      <th>2</th>\n",
       "      <td>6.570842</td>\n",
       "      <td>6.985462</td>\n",
       "      <td>-1.842621</td>\n",
       "      <td>-1.569599</td>\n",
       "      <td>10.039339</td>\n",
       "      <td>-3.623026</td>\n",
       "      <td>8.957619</td>\n",
       "      <td>7.577283</td>\n",
       "      <td>1.541255</td>\n",
       "      <td>7.161509</td>\n",
       "      <td>...</td>\n",
       "      <td>4.028944</td>\n",
       "      <td>1.376085</td>\n",
       "      <td>-8.971164</td>\n",
       "      <td>-5.302191</td>\n",
       "      <td>2.898965</td>\n",
       "      <td>-8.746597</td>\n",
       "      <td>-0.520888</td>\n",
       "      <td>-7.350999</td>\n",
       "      <td>-8.925501</td>\n",
       "      <td>-7.051179</td>\n",
       "    </tr>\n",
       "    <tr>\n",
       "      <th>3</th>\n",
       "      <td>-1.139972</td>\n",
       "      <td>0.579422</td>\n",
       "      <td>-9.526530</td>\n",
       "      <td>-5.744928</td>\n",
       "      <td>4.834355</td>\n",
       "      <td>5.907235</td>\n",
       "      <td>-4.804137</td>\n",
       "      <td>6.798810</td>\n",
       "      <td>5.403670</td>\n",
       "      <td>-7.642857</td>\n",
       "      <td>...</td>\n",
       "      <td>3.974559</td>\n",
       "      <td>0.270571</td>\n",
       "      <td>-8.640988</td>\n",
       "      <td>-8.105419</td>\n",
       "      <td>-5.079015</td>\n",
       "      <td>9.351282</td>\n",
       "      <td>0.641759</td>\n",
       "      <td>1.898083</td>\n",
       "      <td>3.904671</td>\n",
       "      <td>1.453499</td>\n",
       "    </tr>\n",
       "    <tr>\n",
       "      <th>4</th>\n",
       "      <td>-1.738104</td>\n",
       "      <td>0.234729</td>\n",
       "      <td>-11.558768</td>\n",
       "      <td>-7.181332</td>\n",
       "      <td>4.189626</td>\n",
       "      <td>7.765274</td>\n",
       "      <td>-2.189083</td>\n",
       "      <td>7.239925</td>\n",
       "      <td>3.135602</td>\n",
       "      <td>-6.211390</td>\n",
       "      <td>...</td>\n",
       "      <td>3.799633</td>\n",
       "      <td>-0.013973</td>\n",
       "      <td>-9.437110</td>\n",
       "      <td>-6.475267</td>\n",
       "      <td>-5.708377</td>\n",
       "      <td>9.623080</td>\n",
       "      <td>1.802899</td>\n",
       "      <td>1.903705</td>\n",
       "      <td>4.188442</td>\n",
       "      <td>1.522362</td>\n",
       "    </tr>\n",
       "  </tbody>\n",
       "</table>\n",
       "<p>5 rows × 30 columns</p>\n",
       "</div>"
      ],
      "text/plain": [
       "       EJWY      VALM       EGXO      HTGR       SKRF      NNSZ      NYLC  \\\n",
       "0 -2.032145  1.019576  -9.658715 -6.210495   3.156823  7.457850 -5.313357   \n",
       "1  8.306217  6.649376  -0.960333 -4.094799   8.738965 -3.458797  7.016800   \n",
       "2  6.570842  6.985462  -1.842621 -1.569599  10.039339 -3.623026  8.957619   \n",
       "3 -1.139972  0.579422  -9.526530 -5.744928   4.834355  5.907235 -4.804137   \n",
       "4 -1.738104  0.234729 -11.558768 -7.181332   4.189626  7.765274 -2.189083   \n",
       "\n",
       "       GWID      TVUT      CJHI  ...      WDRT      LKKS       UOBF      VBHE  \\\n",
       "0  8.508296  3.959194 -5.246654  ...  4.048589 -2.209663 -10.340123 -7.697555   \n",
       "1  6.692765  0.898264  9.337643  ...  4.341376  0.851793  -9.678324 -6.071795   \n",
       "2  7.577283  1.541255  7.161509  ...  4.028944  1.376085  -8.971164 -5.302191   \n",
       "3  6.798810  5.403670 -7.642857  ...  3.974559  0.270571  -8.640988 -8.105419   \n",
       "4  7.239925  3.135602 -6.211390  ...  3.799633 -0.013973  -9.437110 -6.475267   \n",
       "\n",
       "       FRWU       NDYZ      QSBO      JDUB      TEVK      EZTM  \n",
       "0 -5.932752  10.872688  0.081321  1.276316  5.281225 -0.516447  \n",
       "1  1.428194  -8.082792 -0.557089 -7.817282 -8.686722 -6.953100  \n",
       "2  2.898965  -8.746597 -0.520888 -7.350999 -8.925501 -7.051179  \n",
       "3 -5.079015   9.351282  0.641759  1.898083  3.904671  1.453499  \n",
       "4 -5.708377   9.623080  1.802899  1.903705  4.188442  1.522362  \n",
       "\n",
       "[5 rows x 30 columns]"
      ]
     },
     "execution_count": 10,
     "metadata": {},
     "output_type": "execute_result"
    }
   ],
   "source": [
    "x_data.head()"
   ]
  },
  {
   "cell_type": "code",
   "execution_count": 4,
   "metadata": {},
   "outputs": [
    {
     "data": {
      "text/html": [
       "<div>\n",
       "<style scoped>\n",
       "    .dataframe tbody tr th:only-of-type {\n",
       "        vertical-align: middle;\n",
       "    }\n",
       "\n",
       "    .dataframe tbody tr th {\n",
       "        vertical-align: top;\n",
       "    }\n",
       "\n",
       "    .dataframe thead th {\n",
       "        text-align: right;\n",
       "    }\n",
       "</style>\n",
       "<table border=\"1\" class=\"dataframe\">\n",
       "  <thead>\n",
       "    <tr style=\"text-align: right;\">\n",
       "      <th></th>\n",
       "      <th>EJWY</th>\n",
       "      <th>VALM</th>\n",
       "      <th>EGXO</th>\n",
       "      <th>HTGR</th>\n",
       "      <th>SKRF</th>\n",
       "      <th>NNSZ</th>\n",
       "      <th>NYLC</th>\n",
       "      <th>GWID</th>\n",
       "      <th>TVUT</th>\n",
       "      <th>CJHI</th>\n",
       "      <th>...</th>\n",
       "      <th>LKKS</th>\n",
       "      <th>UOBF</th>\n",
       "      <th>VBHE</th>\n",
       "      <th>FRWU</th>\n",
       "      <th>NDYZ</th>\n",
       "      <th>QSBO</th>\n",
       "      <th>JDUB</th>\n",
       "      <th>TEVK</th>\n",
       "      <th>EZTM</th>\n",
       "      <th>Label</th>\n",
       "    </tr>\n",
       "  </thead>\n",
       "  <tbody>\n",
       "    <tr>\n",
       "      <th>count</th>\n",
       "      <td>500.000000</td>\n",
       "      <td>500.000000</td>\n",
       "      <td>500.000000</td>\n",
       "      <td>500.000000</td>\n",
       "      <td>500.000000</td>\n",
       "      <td>500.000000</td>\n",
       "      <td>500.000000</td>\n",
       "      <td>500.000000</td>\n",
       "      <td>500.000000</td>\n",
       "      <td>500.000000</td>\n",
       "      <td>...</td>\n",
       "      <td>500.000000</td>\n",
       "      <td>500.000000</td>\n",
       "      <td>500.000000</td>\n",
       "      <td>500.000000</td>\n",
       "      <td>500.000000</td>\n",
       "      <td>500.000000</td>\n",
       "      <td>500.000000</td>\n",
       "      <td>500.000000</td>\n",
       "      <td>500.000000</td>\n",
       "      <td>500.000000</td>\n",
       "    </tr>\n",
       "    <tr>\n",
       "      <th>mean</th>\n",
       "      <td>4.237752</td>\n",
       "      <td>3.755108</td>\n",
       "      <td>-5.614445</td>\n",
       "      <td>-4.747200</td>\n",
       "      <td>6.447995</td>\n",
       "      <td>1.776850</td>\n",
       "      <td>1.718450</td>\n",
       "      <td>7.208016</td>\n",
       "      <td>2.556548</td>\n",
       "      <td>1.222064</td>\n",
       "      <td>...</td>\n",
       "      <td>0.295252</td>\n",
       "      <td>-9.053808</td>\n",
       "      <td>-6.291877</td>\n",
       "      <td>-2.345864</td>\n",
       "      <td>1.125596</td>\n",
       "      <td>0.284048</td>\n",
       "      <td>-2.817147</td>\n",
       "      <td>-2.192278</td>\n",
       "      <td>-2.816977</td>\n",
       "      <td>0.500000</td>\n",
       "    </tr>\n",
       "    <tr>\n",
       "      <th>std</th>\n",
       "      <td>4.121210</td>\n",
       "      <td>2.540833</td>\n",
       "      <td>3.853295</td>\n",
       "      <td>2.164355</td>\n",
       "      <td>2.796104</td>\n",
       "      <td>5.030617</td>\n",
       "      <td>5.771508</td>\n",
       "      <td>1.167246</td>\n",
       "      <td>2.146874</td>\n",
       "      <td>7.410762</td>\n",
       "      <td>...</td>\n",
       "      <td>1.017020</td>\n",
       "      <td>1.008391</td>\n",
       "      <td>1.305176</td>\n",
       "      <td>3.973564</td>\n",
       "      <td>8.839871</td>\n",
       "      <td>1.045746</td>\n",
       "      <td>4.548817</td>\n",
       "      <td>6.960762</td>\n",
       "      <td>3.758615</td>\n",
       "      <td>0.500501</td>\n",
       "    </tr>\n",
       "    <tr>\n",
       "      <th>min</th>\n",
       "      <td>-2.032145</td>\n",
       "      <td>-1.677119</td>\n",
       "      <td>-12.167510</td>\n",
       "      <td>-9.507402</td>\n",
       "      <td>1.220239</td>\n",
       "      <td>-5.435379</td>\n",
       "      <td>-6.699806</td>\n",
       "      <td>4.074939</td>\n",
       "      <td>-2.830792</td>\n",
       "      <td>-8.851496</td>\n",
       "      <td>...</td>\n",
       "      <td>-3.046497</td>\n",
       "      <td>-12.128499</td>\n",
       "      <td>-9.582822</td>\n",
       "      <td>-9.367262</td>\n",
       "      <td>-10.986387</td>\n",
       "      <td>-2.595682</td>\n",
       "      <td>-9.710075</td>\n",
       "      <td>-11.325978</td>\n",
       "      <td>-9.363069</td>\n",
       "      <td>0.000000</td>\n",
       "    </tr>\n",
       "    <tr>\n",
       "      <th>25%</th>\n",
       "      <td>0.287295</td>\n",
       "      <td>1.450981</td>\n",
       "      <td>-9.258086</td>\n",
       "      <td>-6.608699</td>\n",
       "      <td>3.816363</td>\n",
       "      <td>-3.246286</td>\n",
       "      <td>-3.921556</td>\n",
       "      <td>6.457160</td>\n",
       "      <td>0.742799</td>\n",
       "      <td>-5.980770</td>\n",
       "      <td>...</td>\n",
       "      <td>-0.346735</td>\n",
       "      <td>-9.698782</td>\n",
       "      <td>-7.330375</td>\n",
       "      <td>-6.232200</td>\n",
       "      <td>-7.569584</td>\n",
       "      <td>-0.466278</td>\n",
       "      <td>-7.291228</td>\n",
       "      <td>-9.077094</td>\n",
       "      <td>-6.421727</td>\n",
       "      <td>0.000000</td>\n",
       "    </tr>\n",
       "    <tr>\n",
       "      <th>50%</th>\n",
       "      <td>4.212893</td>\n",
       "      <td>4.122470</td>\n",
       "      <td>-4.681202</td>\n",
       "      <td>-4.521427</td>\n",
       "      <td>6.009192</td>\n",
       "      <td>1.465326</td>\n",
       "      <td>2.119661</td>\n",
       "      <td>7.148805</td>\n",
       "      <td>2.399665</td>\n",
       "      <td>1.082333</td>\n",
       "      <td>...</td>\n",
       "      <td>0.258733</td>\n",
       "      <td>-9.066828</td>\n",
       "      <td>-6.262909</td>\n",
       "      <td>-2.188896</td>\n",
       "      <td>1.200635</td>\n",
       "      <td>0.229365</td>\n",
       "      <td>-2.450744</td>\n",
       "      <td>-1.828291</td>\n",
       "      <td>-2.160272</td>\n",
       "      <td>0.500000</td>\n",
       "    </tr>\n",
       "    <tr>\n",
       "      <th>75%</th>\n",
       "      <td>8.238277</td>\n",
       "      <td>6.066863</td>\n",
       "      <td>-1.901586</td>\n",
       "      <td>-2.879066</td>\n",
       "      <td>9.145269</td>\n",
       "      <td>6.819129</td>\n",
       "      <td>7.323175</td>\n",
       "      <td>7.974873</td>\n",
       "      <td>4.526339</td>\n",
       "      <td>8.480955</td>\n",
       "      <td>...</td>\n",
       "      <td>1.028362</td>\n",
       "      <td>-8.344404</td>\n",
       "      <td>-5.314031</td>\n",
       "      <td>1.427888</td>\n",
       "      <td>9.875877</td>\n",
       "      <td>0.983905</td>\n",
       "      <td>1.569697</td>\n",
       "      <td>4.648586</td>\n",
       "      <td>0.744805</td>\n",
       "      <td>1.000000</td>\n",
       "    </tr>\n",
       "    <tr>\n",
       "      <th>max</th>\n",
       "      <td>11.221614</td>\n",
       "      <td>8.464551</td>\n",
       "      <td>0.806140</td>\n",
       "      <td>-0.109049</td>\n",
       "      <td>12.327433</td>\n",
       "      <td>9.730383</td>\n",
       "      <td>9.918112</td>\n",
       "      <td>10.449979</td>\n",
       "      <td>7.032117</td>\n",
       "      <td>11.569669</td>\n",
       "      <td>...</td>\n",
       "      <td>3.600537</td>\n",
       "      <td>-4.976943</td>\n",
       "      <td>-2.583479</td>\n",
       "      <td>4.686482</td>\n",
       "      <td>12.750833</td>\n",
       "      <td>3.770563</td>\n",
       "      <td>4.717894</td>\n",
       "      <td>7.294646</td>\n",
       "      <td>3.375074</td>\n",
       "      <td>1.000000</td>\n",
       "    </tr>\n",
       "  </tbody>\n",
       "</table>\n",
       "<p>8 rows × 31 columns</p>\n",
       "</div>"
      ],
      "text/plain": [
       "             EJWY        VALM        EGXO        HTGR        SKRF        NNSZ  \\\n",
       "count  500.000000  500.000000  500.000000  500.000000  500.000000  500.000000   \n",
       "mean     4.237752    3.755108   -5.614445   -4.747200    6.447995    1.776850   \n",
       "std      4.121210    2.540833    3.853295    2.164355    2.796104    5.030617   \n",
       "min     -2.032145   -1.677119  -12.167510   -9.507402    1.220239   -5.435379   \n",
       "25%      0.287295    1.450981   -9.258086   -6.608699    3.816363   -3.246286   \n",
       "50%      4.212893    4.122470   -4.681202   -4.521427    6.009192    1.465326   \n",
       "75%      8.238277    6.066863   -1.901586   -2.879066    9.145269    6.819129   \n",
       "max     11.221614    8.464551    0.806140   -0.109049   12.327433    9.730383   \n",
       "\n",
       "             NYLC        GWID        TVUT        CJHI  ...        LKKS  \\\n",
       "count  500.000000  500.000000  500.000000  500.000000  ...  500.000000   \n",
       "mean     1.718450    7.208016    2.556548    1.222064  ...    0.295252   \n",
       "std      5.771508    1.167246    2.146874    7.410762  ...    1.017020   \n",
       "min     -6.699806    4.074939   -2.830792   -8.851496  ...   -3.046497   \n",
       "25%     -3.921556    6.457160    0.742799   -5.980770  ...   -0.346735   \n",
       "50%      2.119661    7.148805    2.399665    1.082333  ...    0.258733   \n",
       "75%      7.323175    7.974873    4.526339    8.480955  ...    1.028362   \n",
       "max      9.918112   10.449979    7.032117   11.569669  ...    3.600537   \n",
       "\n",
       "             UOBF        VBHE        FRWU        NDYZ        QSBO        JDUB  \\\n",
       "count  500.000000  500.000000  500.000000  500.000000  500.000000  500.000000   \n",
       "mean    -9.053808   -6.291877   -2.345864    1.125596    0.284048   -2.817147   \n",
       "std      1.008391    1.305176    3.973564    8.839871    1.045746    4.548817   \n",
       "min    -12.128499   -9.582822   -9.367262  -10.986387   -2.595682   -9.710075   \n",
       "25%     -9.698782   -7.330375   -6.232200   -7.569584   -0.466278   -7.291228   \n",
       "50%     -9.066828   -6.262909   -2.188896    1.200635    0.229365   -2.450744   \n",
       "75%     -8.344404   -5.314031    1.427888    9.875877    0.983905    1.569697   \n",
       "max     -4.976943   -2.583479    4.686482   12.750833    3.770563    4.717894   \n",
       "\n",
       "             TEVK        EZTM       Label  \n",
       "count  500.000000  500.000000  500.000000  \n",
       "mean    -2.192278   -2.816977    0.500000  \n",
       "std      6.960762    3.758615    0.500501  \n",
       "min    -11.325978   -9.363069    0.000000  \n",
       "25%     -9.077094   -6.421727    0.000000  \n",
       "50%     -1.828291   -2.160272    0.500000  \n",
       "75%      4.648586    0.744805    1.000000  \n",
       "max      7.294646    3.375074    1.000000  \n",
       "\n",
       "[8 rows x 31 columns]"
      ]
     },
     "execution_count": 4,
     "metadata": {},
     "output_type": "execute_result"
    }
   ],
   "source": [
    "data.describe()"
   ]
  },
  {
   "cell_type": "markdown",
   "metadata": {},
   "source": [
    "## Scale the Data\n",
    "\n",
    "** Use scikit learn to scale the data with a MinMaxScaler. Remember not to scale the Label column, just the data. Save this scaled data as a new variable called scaled_data. **"
   ]
  },
  {
   "cell_type": "code",
   "execution_count": 5,
   "metadata": {},
   "outputs": [],
   "source": [
    "from sklearn.preprocessing import MinMaxScaler"
   ]
  },
  {
   "cell_type": "code",
   "execution_count": 12,
   "metadata": {},
   "outputs": [],
   "source": [
    "scaler = MinMaxScaler()\n",
    "scaled_x = scaler.fit_transform(x_data)"
   ]
  },
  {
   "cell_type": "markdown",
   "metadata": {},
   "source": [
    "# The Linear Autoencoder"
   ]
  },
  {
   "cell_type": "markdown",
   "metadata": {},
   "source": [
    "** Import tensorflow and import fully_connected layers from tensorflow.contrib.layers. **"
   ]
  },
  {
   "cell_type": "code",
   "execution_count": 14,
   "metadata": {},
   "outputs": [
    {
     "data": {
      "text/plain": [
       "(500, 30)"
      ]
     },
     "execution_count": 14,
     "metadata": {},
     "output_type": "execute_result"
    }
   ],
   "source": [
    "import tensorflow as tf\n",
    "from tensorflow.contrib.layers import fully_connected\n",
    "scaled_x.shape"
   ]
  },
  {
   "cell_type": "markdown",
   "metadata": {},
   "source": [
    "** Fill out the number of inputs to fit the dimensions of the data set and set the hidden number of units to be 2. Also set the number of outputs to match the number of inputs. Also choose a learning_rate value.**"
   ]
  },
  {
   "cell_type": "code",
   "execution_count": 15,
   "metadata": {},
   "outputs": [],
   "source": [
    "num_inputs = scaled_x.shape[1]\n",
    "num_hidden = 2\n",
    "num_outputs = num_inputs # Must be true for an autoencoder!\n",
    "\n",
    "learning_rate = 0.01"
   ]
  },
  {
   "cell_type": "markdown",
   "metadata": {},
   "source": [
    "### Placeholder\n",
    "\n",
    "** Create a placeholder fot the data called X.**"
   ]
  },
  {
   "cell_type": "code",
   "execution_count": 16,
   "metadata": {},
   "outputs": [],
   "source": [
    "X = tf.placeholder(tf.float32, shape=[None, num_inputs])"
   ]
  },
  {
   "cell_type": "markdown",
   "metadata": {},
   "source": [
    "### Layers\n",
    "\n",
    "** Create the hidden layer and the output layers using the fully_connected function. Remember that to perform PCA there is no activation function.**"
   ]
  },
  {
   "cell_type": "code",
   "execution_count": 17,
   "metadata": {},
   "outputs": [
    {
     "name": "stdout",
     "output_type": "stream",
     "text": [
      "WARNING:tensorflow:From C:\\Users\\marco\\.virtualenvs\\tensorflow_for_deep_learning-4C26M6Uv\\lib\\site-packages\\tensorflow_core\\contrib\\layers\\python\\layers\\layers.py:1866: Layer.apply (from tensorflow.python.keras.engine.base_layer) is deprecated and will be removed in a future version.\n",
      "Instructions for updating:\n",
      "Please use `layer.__call__` method instead.\n"
     ]
    }
   ],
   "source": [
    "hidden = fully_connected(X, num_hidden, activation_fn=None)\n",
    "outputs = fully_connected(hidden, num_outputs, activation_fn=None)"
   ]
  },
  {
   "cell_type": "markdown",
   "metadata": {},
   "source": [
    "### Loss Function\n",
    "\n",
    "** Create a Mean Squared Error loss function. **"
   ]
  },
  {
   "cell_type": "code",
   "execution_count": 18,
   "metadata": {},
   "outputs": [],
   "source": [
    "loss = tf.reduce_mean(tf.square(outputs - X))"
   ]
  },
  {
   "cell_type": "markdown",
   "metadata": {},
   "source": [
    "### Optimizer"
   ]
  },
  {
   "cell_type": "markdown",
   "metadata": {},
   "source": [
    "** Create an AdamOptimizer designed to minimize the previous loss function. **"
   ]
  },
  {
   "cell_type": "code",
   "execution_count": 20,
   "metadata": {},
   "outputs": [],
   "source": [
    "optimizer = tf.train.AdamOptimizer(learning_rate)\n",
    "train = optimizer.minimize(loss)"
   ]
  },
  {
   "cell_type": "markdown",
   "metadata": {},
   "source": [
    "### Init\n",
    "\n",
    "** Create an instance of a global variable intializer. **"
   ]
  },
  {
   "cell_type": "code",
   "execution_count": 22,
   "metadata": {},
   "outputs": [],
   "source": [
    "init = tf.global_variables_initializer()"
   ]
  },
  {
   "cell_type": "markdown",
   "metadata": {},
   "source": [
    "## Running the Session\n",
    "\n",
    "** Now create a Tensorflow session that runs the optimizer for at least 1000 steps. (You can also use epochs if you prefer, where 1 epoch is defined by one single run through the entire dataset. **"
   ]
  },
  {
   "cell_type": "code",
   "execution_count": 23,
   "metadata": {},
   "outputs": [],
   "source": [
    "num_steps = 1000\n",
    "\n",
    "with tf.Session() as session:\n",
    "    session.run(init)\n",
    "    \n",
    "    for iteration in range(num_steps):\n",
    "        session.run(train, feed_dict={X:scaled_x})\n",
    "    \n",
    "    output_2d = hidden.eval(feed_dict={X:scaled_x})"
   ]
  },
  {
   "cell_type": "markdown",
   "metadata": {},
   "source": [
    "** Now create a session that runs the scaled data through the hidden layer. (You could have also done this in the last step after all the training steps. **"
   ]
  },
  {
   "cell_type": "code",
   "execution_count": 18,
   "metadata": {
    "collapsed": true
   },
   "outputs": [],
   "source": []
  },
  {
   "cell_type": "markdown",
   "metadata": {},
   "source": [
    "** Confirm that your output is now 2 dimensional along the previous axis of 30 features. **"
   ]
  },
  {
   "cell_type": "code",
   "execution_count": 24,
   "metadata": {},
   "outputs": [
    {
     "data": {
      "text/plain": [
       "(500, 2)"
      ]
     },
     "execution_count": 24,
     "metadata": {},
     "output_type": "execute_result"
    }
   ],
   "source": [
    "output_2d.shape"
   ]
  },
  {
   "cell_type": "markdown",
   "metadata": {},
   "source": [
    "** Now plot out the reduced dimensional representation of the data. Do you still have clear separation of classes even with the reduction in dimensions? Hint: You definitely should, the classes should still be clearly seperable, even when reduced to 2 dimensions. **"
   ]
  },
  {
   "cell_type": "code",
   "execution_count": 26,
   "metadata": {},
   "outputs": [
    {
     "data": {
      "text/plain": [
       "<matplotlib.collections.PathCollection at 0x1f4677bbec8>"
      ]
     },
     "execution_count": 26,
     "metadata": {},
     "output_type": "execute_result"
    },
    {
     "data": {
      "image/png": "[encoded data removed]",
      "text/plain": [
       "<Figure size 640x480 with 1 Axes>"
      ]
     },
     "metadata": {},
     "output_type": "display_data"
    }
   ],
   "source": [
    "plt.scatter(output_2d[:,0], output_2d[:,1], c=data[\"Label\"])"
   ]
  },
  {
   "cell_type": "markdown",
   "metadata": {},
   "source": [
    "# Great Job!"
   ]
  },
  {
   "cell_type": "code",
   "execution_count": null,
   "metadata": {
    "collapsed": true
   },
   "outputs": [],
   "source": []
  }
 ],
 "metadata": {
  "kernelspec": {
   "display_name": "tfdl-v1",
   "language": "python",
   "name": "tfdl-v1"
  },
  "language_info": {
   "codemirror_mode": {
    "name": "ipython",
    "version": 3
   },
   "file_extension": ".py",
   "mimetype": "text/x-python",
   "name": "python",
   "nbconvert_exporter": "python",
   "pygments_lexer": "ipython3",
   "version": "3.7.9"
  }
 },
 "nbformat": 4,
 "nbformat_minor": 2
}
