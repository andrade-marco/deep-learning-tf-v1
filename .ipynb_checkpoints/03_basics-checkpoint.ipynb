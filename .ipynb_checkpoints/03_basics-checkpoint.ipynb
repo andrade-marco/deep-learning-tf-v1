{
 "cells": [
  {
   "cell_type": "markdown",
   "id": "999056ae",
   "metadata": {},
   "source": [
    "# Tensorflow V1"
   ]
  },
  {
   "cell_type": "code",
   "execution_count": 1,
   "id": "ba75a932",
   "metadata": {},
   "outputs": [
    {
     "name": "stdout",
     "output_type": "stream",
     "text": [
      "WARNING:tensorflow:From C:\\Users\\marco\\.virtualenvs\\tensorflow_for_deep_learning-4C26M6Uv\\lib\\site-packages\\tensorflow\\python\\compat\\v2_compat.py:107: disable_resource_variables (from tensorflow.python.ops.variable_scope) is deprecated and will be removed in a future version.\n",
      "Instructions for updating:\n",
      "non-resource variables are not supported in the long term\n"
     ]
    }
   ],
   "source": [
    "import tensorflow.compat.v1 as tf\n",
    "\n",
    "tf.disable_v2_behavior()"
   ]
  },
  {
   "cell_type": "markdown",
   "id": "9e4a6681",
   "metadata": {},
   "source": [
    "### Basic Syntax"
   ]
  },
  {
   "cell_type": "code",
   "execution_count": 8,
   "id": "a5c76c36",
   "metadata": {},
   "outputs": [
    {
     "data": {
      "text/plain": [
       "b'Hello World'"
      ]
     },
     "execution_count": 8,
     "metadata": {},
     "output_type": "execute_result"
    }
   ],
   "source": [
    "hello = tf.constant(\"Hello \")\n",
    "world = tf.constant(\"World\")\n",
    "\n",
    "with tf.Session() as session:\n",
    "    result = session.run(hello + world)\n",
    "    \n",
    "result"
   ]
  },
  {
   "cell_type": "code",
   "execution_count": 9,
   "id": "a0789bc5",
   "metadata": {},
   "outputs": [
    {
     "data": {
      "text/plain": [
       "30"
      ]
     },
     "execution_count": 9,
     "metadata": {},
     "output_type": "execute_result"
    }
   ],
   "source": [
    "a = tf.constant(10)\n",
    "b = tf.constant(20)\n",
    "\n",
    "with tf.Session() as session:\n",
    "    result = session.run(a + b)\n",
    "    \n",
    "result"
   ]
  },
  {
   "cell_type": "code",
   "execution_count": 19,
   "id": "45f07d3a",
   "metadata": {},
   "outputs": [],
   "source": [
    "dims = (4,4)\n",
    "fill_mat = tf.fill(dims, 10)\n",
    "my_zeros = tf.zeros(dims)\n",
    "my_ones = tf.ones(dims)\n",
    "my_randn = tf.random_normal(dims, mean=0, stddev=1.0)\n",
    "my_randu = tf.random_uniform(dims, minval=0, maxval=1.0)\n",
    "\n",
    "my_ops = [fill_mat, my_zeros, my_ones, my_randn, my_randu]"
   ]
  },
  {
   "cell_type": "code",
   "execution_count": 24,
   "id": "32652da9",
   "metadata": {},
   "outputs": [
    {
     "name": "stdout",
     "output_type": "stream",
     "text": [
      "[[10 10 10 10]\n",
      " [10 10 10 10]\n",
      " [10 10 10 10]\n",
      " [10 10 10 10]]\n",
      "\n",
      "\n",
      "[[0. 0. 0. 0.]\n",
      " [0. 0. 0. 0.]\n",
      " [0. 0. 0. 0.]\n",
      " [0. 0. 0. 0.]]\n",
      "\n",
      "\n",
      "[[1. 1. 1. 1.]\n",
      " [1. 1. 1. 1.]\n",
      " [1. 1. 1. 1.]\n",
      " [1. 1. 1. 1.]]\n",
      "\n",
      "\n",
      "[[-1.6001428  -1.2634546  -2.0745387   0.09527214]\n",
      " [ 0.32760695  0.00628623 -0.33167526  0.9310093 ]\n",
      " [-0.02907251 -1.9944315   1.7737905   0.55147856]\n",
      " [-0.4108656   0.7113938   0.9342754  -0.8850058 ]]\n",
      "\n",
      "\n",
      "[[0.02766407 0.4562949  0.29201257 0.329836  ]\n",
      " [0.58456016 0.6072509  0.77950215 0.9817246 ]\n",
      " [0.1739167  0.10640609 0.6376312  0.9841075 ]\n",
      " [0.36370862 0.4930657  0.6949791  0.8797965 ]]\n",
      "\n",
      "\n"
     ]
    }
   ],
   "source": [
    "with tf.Session() as session:\n",
    "    for op in my_ops:\n",
    "        print(f\"{session.run(op)}\\n\\n\")"
   ]
  },
  {
   "cell_type": "code",
   "execution_count": 28,
   "id": "fa8195fa",
   "metadata": {},
   "outputs": [
    {
     "data": {
      "text/plain": [
       "(TensorShape([Dimension(2), Dimension(2)]),\n",
       " TensorShape([Dimension(2), Dimension(1)]))"
      ]
     },
     "execution_count": 28,
     "metadata": {},
     "output_type": "execute_result"
    }
   ],
   "source": [
    "a = tf.constant([[1,2],[3,4]])\n",
    "b = tf.constant([[10],[100]])\n",
    "\n",
    "a.get_shape(), b.get_shape()"
   ]
  },
  {
   "cell_type": "code",
   "execution_count": 30,
   "id": "c9bd3009",
   "metadata": {},
   "outputs": [
    {
     "data": {
      "text/plain": [
       "array([[210],\n",
       "       [430]])"
      ]
     },
     "execution_count": 30,
     "metadata": {},
     "output_type": "execute_result"
    }
   ],
   "source": [
    "with tf.Session() as session:\n",
    "    result = session.run(tf.matmul(a, b))\n",
    "\n",
    "result"
   ]
  },
  {
   "cell_type": "markdown",
   "id": "eed02dfc",
   "metadata": {},
   "source": [
    "### Graph"
   ]
  },
  {
   "cell_type": "code",
   "execution_count": 3,
   "id": "28a8d213",
   "metadata": {},
   "outputs": [
    {
     "data": {
      "text/plain": [
       "3"
      ]
     },
     "execution_count": 3,
     "metadata": {},
     "output_type": "execute_result"
    }
   ],
   "source": [
    "n1 = tf.constant(1)\n",
    "n2 = tf.constant(2)\n",
    "\n",
    "n3 = n1 + n2\n",
    "\n",
    "with tf.Session() as session:\n",
    "    result = session.run(n3)\n",
    "    \n",
    "result"
   ]
  },
  {
   "cell_type": "code",
   "execution_count": 4,
   "id": "5c347fa7",
   "metadata": {},
   "outputs": [
    {
     "name": "stdout",
     "output_type": "stream",
     "text": [
      "<tensorflow.python.framework.ops.Graph object at 0x000001B79A948220>\n"
     ]
    }
   ],
   "source": [
    "print(tf.get_default_graph())"
   ]
  },
  {
   "cell_type": "code",
   "execution_count": 7,
   "id": "11c4299e",
   "metadata": {},
   "outputs": [
    {
     "name": "stdout",
     "output_type": "stream",
     "text": [
      "<tensorflow.python.framework.ops.Graph object at 0x000001B7B1A94CD0>\n"
     ]
    }
   ],
   "source": [
    "g = tf.Graph()\n",
    "\n",
    "print(g)"
   ]
  },
  {
   "cell_type": "code",
   "execution_count": 8,
   "id": "f267b0ee",
   "metadata": {},
   "outputs": [],
   "source": [
    "graph_1 = tf.get_default_graph()\n",
    "graph_2 = tf.Graph()"
   ]
  },
  {
   "cell_type": "code",
   "execution_count": 10,
   "id": "9b74884f",
   "metadata": {},
   "outputs": [
    {
     "name": "stdout",
     "output_type": "stream",
     "text": [
      "True\n"
     ]
    }
   ],
   "source": [
    "with graph_2.as_default():\n",
    "    print(graph_2 is tf.get_default_graph())"
   ]
  },
  {
   "cell_type": "code",
   "execution_count": 11,
   "id": "25be6c5a",
   "metadata": {},
   "outputs": [
    {
     "name": "stdout",
     "output_type": "stream",
     "text": [
      "<tf.Variable 'Variable:0' shape=(4, 4) dtype=float32_ref>\n"
     ]
    }
   ],
   "source": [
    "my_tensor = tf.random.uniform((4,4), 0, 1)\n",
    "my_var = tf.Variable(initial_value=my_tensor)\n",
    "\n",
    "print(my_var)"
   ]
  },
  {
   "cell_type": "code",
   "execution_count": 19,
   "id": "64d70bbc",
   "metadata": {},
   "outputs": [
    {
     "data": {
      "text/plain": [
       "array([[0.75570154, 0.7910776 , 0.31299126, 0.4479246 ],\n",
       "       [0.55835557, 0.7520344 , 0.07806861, 0.68039715],\n",
       "       [0.0202086 , 0.80994344, 0.8603116 , 0.22186112],\n",
       "       [0.6182276 , 0.05153227, 0.19410264, 0.41053784]], dtype=float32)"
      ]
     },
     "execution_count": 19,
     "metadata": {},
     "output_type": "execute_result"
    }
   ],
   "source": [
    "with tf.Session() as session:\n",
    "    init = tf.global_variables_initializer()\n",
    "    session.run(init)\n",
    "    result = session.run(my_var)\n",
    "    \n",
    "result"
   ]
  },
  {
   "cell_type": "code",
   "execution_count": 20,
   "id": "603f4835",
   "metadata": {},
   "outputs": [],
   "source": [
    "ph = tf.placeholder(tf.float32, shape=(None, 5))"
   ]
  },
  {
   "cell_type": "code",
   "execution_count": null,
   "id": "c56c4b28",
   "metadata": {},
   "outputs": [],
   "source": []
  }
 ],
 "metadata": {
  "kernelspec": {
   "display_name": "tfdl",
   "language": "python",
   "name": "tfdl"
  },
  "language_info": {
   "codemirror_mode": {
    "name": "ipython",
    "version": 3
   },
   "file_extension": ".py",
   "mimetype": "text/x-python",
   "name": "python",
   "nbconvert_exporter": "python",
   "pygments_lexer": "ipython3",
   "version": "3.10.10"
  }
 },
 "nbformat": 4,
 "nbformat_minor": 5
}
