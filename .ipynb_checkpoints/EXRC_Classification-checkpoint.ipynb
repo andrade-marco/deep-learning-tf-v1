{
 "cells": [
  {
   "cell_type": "code",
   "execution_count": 1,
   "id": "49207abf",
   "metadata": {},
   "outputs": [
    {
     "name": "stdout",
     "output_type": "stream",
     "text": [
      "WARNING:tensorflow:From C:\\Users\\marco\\.virtualenvs\\tensorflow_for_deep_learning-4C26M6Uv\\lib\\site-packages\\tensorflow\\python\\compat\\v2_compat.py:107: disable_resource_variables (from tensorflow.python.ops.variable_scope) is deprecated and will be removed in a future version.\n",
      "Instructions for updating:\n",
      "non-resource variables are not supported in the long term\n"
     ]
    }
   ],
   "source": [
    "import numpy as np\n",
    "import pandas as pd\n",
    "import matplotlib.pyplot as plt\n",
    "import tensorflow.compat.v1 as tf\n",
    "\n",
    "\n",
    "%matplotlib inline\n",
    "tf.disable_v2_behavior()"
   ]
  },
  {
   "cell_type": "code",
   "execution_count": 12,
   "id": "924ced61",
   "metadata": {},
   "outputs": [],
   "source": [
    "census_data = pd.read_csv(\"./tensorflow_course_resources/02-TensorFlow-Basics/census_data.csv\")"
   ]
  },
  {
   "cell_type": "code",
   "execution_count": 13,
   "id": "2a4ccc51",
   "metadata": {},
   "outputs": [
    {
     "data": {
      "text/html": [
       "<div>\n",
       "<style scoped>\n",
       "    .dataframe tbody tr th:only-of-type {\n",
       "        vertical-align: middle;\n",
       "    }\n",
       "\n",
       "    .dataframe tbody tr th {\n",
       "        vertical-align: top;\n",
       "    }\n",
       "\n",
       "    .dataframe thead th {\n",
       "        text-align: right;\n",
       "    }\n",
       "</style>\n",
       "<table border=\"1\" class=\"dataframe\">\n",
       "  <thead>\n",
       "    <tr style=\"text-align: right;\">\n",
       "      <th></th>\n",
       "      <th>age</th>\n",
       "      <th>workclass</th>\n",
       "      <th>education</th>\n",
       "      <th>education_num</th>\n",
       "      <th>marital_status</th>\n",
       "      <th>occupation</th>\n",
       "      <th>relationship</th>\n",
       "      <th>race</th>\n",
       "      <th>gender</th>\n",
       "      <th>capital_gain</th>\n",
       "      <th>capital_loss</th>\n",
       "      <th>hours_per_week</th>\n",
       "      <th>native_country</th>\n",
       "      <th>income_bracket</th>\n",
       "    </tr>\n",
       "  </thead>\n",
       "  <tbody>\n",
       "    <tr>\n",
       "      <th>0</th>\n",
       "      <td>39</td>\n",
       "      <td>State-gov</td>\n",
       "      <td>Bachelors</td>\n",
       "      <td>13</td>\n",
       "      <td>Never-married</td>\n",
       "      <td>Adm-clerical</td>\n",
       "      <td>Not-in-family</td>\n",
       "      <td>White</td>\n",
       "      <td>Male</td>\n",
       "      <td>2174</td>\n",
       "      <td>0</td>\n",
       "      <td>40</td>\n",
       "      <td>United-States</td>\n",
       "      <td>&lt;=50K</td>\n",
       "    </tr>\n",
       "    <tr>\n",
       "      <th>1</th>\n",
       "      <td>50</td>\n",
       "      <td>Self-emp-not-inc</td>\n",
       "      <td>Bachelors</td>\n",
       "      <td>13</td>\n",
       "      <td>Married-civ-spouse</td>\n",
       "      <td>Exec-managerial</td>\n",
       "      <td>Husband</td>\n",
       "      <td>White</td>\n",
       "      <td>Male</td>\n",
       "      <td>0</td>\n",
       "      <td>0</td>\n",
       "      <td>13</td>\n",
       "      <td>United-States</td>\n",
       "      <td>&lt;=50K</td>\n",
       "    </tr>\n",
       "    <tr>\n",
       "      <th>2</th>\n",
       "      <td>38</td>\n",
       "      <td>Private</td>\n",
       "      <td>HS-grad</td>\n",
       "      <td>9</td>\n",
       "      <td>Divorced</td>\n",
       "      <td>Handlers-cleaners</td>\n",
       "      <td>Not-in-family</td>\n",
       "      <td>White</td>\n",
       "      <td>Male</td>\n",
       "      <td>0</td>\n",
       "      <td>0</td>\n",
       "      <td>40</td>\n",
       "      <td>United-States</td>\n",
       "      <td>&lt;=50K</td>\n",
       "    </tr>\n",
       "    <tr>\n",
       "      <th>3</th>\n",
       "      <td>53</td>\n",
       "      <td>Private</td>\n",
       "      <td>11th</td>\n",
       "      <td>7</td>\n",
       "      <td>Married-civ-spouse</td>\n",
       "      <td>Handlers-cleaners</td>\n",
       "      <td>Husband</td>\n",
       "      <td>Black</td>\n",
       "      <td>Male</td>\n",
       "      <td>0</td>\n",
       "      <td>0</td>\n",
       "      <td>40</td>\n",
       "      <td>United-States</td>\n",
       "      <td>&lt;=50K</td>\n",
       "    </tr>\n",
       "    <tr>\n",
       "      <th>4</th>\n",
       "      <td>28</td>\n",
       "      <td>Private</td>\n",
       "      <td>Bachelors</td>\n",
       "      <td>13</td>\n",
       "      <td>Married-civ-spouse</td>\n",
       "      <td>Prof-specialty</td>\n",
       "      <td>Wife</td>\n",
       "      <td>Black</td>\n",
       "      <td>Female</td>\n",
       "      <td>0</td>\n",
       "      <td>0</td>\n",
       "      <td>40</td>\n",
       "      <td>Cuba</td>\n",
       "      <td>&lt;=50K</td>\n",
       "    </tr>\n",
       "  </tbody>\n",
       "</table>\n",
       "</div>"
      ],
      "text/plain": [
       "   age          workclass   education  education_num       marital_status   \n",
       "0   39          State-gov   Bachelors             13        Never-married  \\\n",
       "1   50   Self-emp-not-inc   Bachelors             13   Married-civ-spouse   \n",
       "2   38            Private     HS-grad              9             Divorced   \n",
       "3   53            Private        11th              7   Married-civ-spouse   \n",
       "4   28            Private   Bachelors             13   Married-civ-spouse   \n",
       "\n",
       "           occupation    relationship    race   gender  capital_gain   \n",
       "0        Adm-clerical   Not-in-family   White     Male          2174  \\\n",
       "1     Exec-managerial         Husband   White     Male             0   \n",
       "2   Handlers-cleaners   Not-in-family   White     Male             0   \n",
       "3   Handlers-cleaners         Husband   Black     Male             0   \n",
       "4      Prof-specialty            Wife   Black   Female             0   \n",
       "\n",
       "   capital_loss  hours_per_week  native_country income_bracket  \n",
       "0             0              40   United-States          <=50K  \n",
       "1             0              13   United-States          <=50K  \n",
       "2             0              40   United-States          <=50K  \n",
       "3             0              40   United-States          <=50K  \n",
       "4             0              40            Cuba          <=50K  "
      ]
     },
     "execution_count": 13,
     "metadata": {},
     "output_type": "execute_result"
    }
   ],
   "source": [
    "census_data.head()\n"
   ]
  },
  {
   "cell_type": "code",
   "execution_count": 14,
   "id": "e84e7737",
   "metadata": {},
   "outputs": [],
   "source": [
    "census_data[\"income_bracket\"] = census_data[\"income_bracket\"].apply(lambda x: 0 if x == \" <=50K\" else 1)"
   ]
  },
  {
   "cell_type": "code",
   "execution_count": 16,
   "id": "48eb94bd",
   "metadata": {},
   "outputs": [
    {
     "data": {
      "text/html": [
       "<div>\n",
       "<style scoped>\n",
       "    .dataframe tbody tr th:only-of-type {\n",
       "        vertical-align: middle;\n",
       "    }\n",
       "\n",
       "    .dataframe tbody tr th {\n",
       "        vertical-align: top;\n",
       "    }\n",
       "\n",
       "    .dataframe thead th {\n",
       "        text-align: right;\n",
       "    }\n",
       "</style>\n",
       "<table border=\"1\" class=\"dataframe\">\n",
       "  <thead>\n",
       "    <tr style=\"text-align: right;\">\n",
       "      <th></th>\n",
       "      <th>age</th>\n",
       "      <th>education_num</th>\n",
       "      <th>capital_gain</th>\n",
       "      <th>capital_loss</th>\n",
       "      <th>hours_per_week</th>\n",
       "      <th>income_bracket</th>\n",
       "    </tr>\n",
       "  </thead>\n",
       "  <tbody>\n",
       "    <tr>\n",
       "      <th>count</th>\n",
       "      <td>32561.000000</td>\n",
       "      <td>32561.000000</td>\n",
       "      <td>32561.000000</td>\n",
       "      <td>32561.000000</td>\n",
       "      <td>32561.000000</td>\n",
       "      <td>32561.000000</td>\n",
       "    </tr>\n",
       "    <tr>\n",
       "      <th>mean</th>\n",
       "      <td>38.581647</td>\n",
       "      <td>10.080679</td>\n",
       "      <td>1077.648844</td>\n",
       "      <td>87.303830</td>\n",
       "      <td>40.437456</td>\n",
       "      <td>0.240810</td>\n",
       "    </tr>\n",
       "    <tr>\n",
       "      <th>std</th>\n",
       "      <td>13.640433</td>\n",
       "      <td>2.572720</td>\n",
       "      <td>7385.292085</td>\n",
       "      <td>402.960219</td>\n",
       "      <td>12.347429</td>\n",
       "      <td>0.427581</td>\n",
       "    </tr>\n",
       "    <tr>\n",
       "      <th>min</th>\n",
       "      <td>17.000000</td>\n",
       "      <td>1.000000</td>\n",
       "      <td>0.000000</td>\n",
       "      <td>0.000000</td>\n",
       "      <td>1.000000</td>\n",
       "      <td>0.000000</td>\n",
       "    </tr>\n",
       "    <tr>\n",
       "      <th>25%</th>\n",
       "      <td>28.000000</td>\n",
       "      <td>9.000000</td>\n",
       "      <td>0.000000</td>\n",
       "      <td>0.000000</td>\n",
       "      <td>40.000000</td>\n",
       "      <td>0.000000</td>\n",
       "    </tr>\n",
       "    <tr>\n",
       "      <th>50%</th>\n",
       "      <td>37.000000</td>\n",
       "      <td>10.000000</td>\n",
       "      <td>0.000000</td>\n",
       "      <td>0.000000</td>\n",
       "      <td>40.000000</td>\n",
       "      <td>0.000000</td>\n",
       "    </tr>\n",
       "    <tr>\n",
       "      <th>75%</th>\n",
       "      <td>48.000000</td>\n",
       "      <td>12.000000</td>\n",
       "      <td>0.000000</td>\n",
       "      <td>0.000000</td>\n",
       "      <td>45.000000</td>\n",
       "      <td>0.000000</td>\n",
       "    </tr>\n",
       "    <tr>\n",
       "      <th>max</th>\n",
       "      <td>90.000000</td>\n",
       "      <td>16.000000</td>\n",
       "      <td>99999.000000</td>\n",
       "      <td>4356.000000</td>\n",
       "      <td>99.000000</td>\n",
       "      <td>1.000000</td>\n",
       "    </tr>\n",
       "  </tbody>\n",
       "</table>\n",
       "</div>"
      ],
      "text/plain": [
       "                age  education_num  capital_gain  capital_loss   \n",
       "count  32561.000000   32561.000000  32561.000000  32561.000000  \\\n",
       "mean      38.581647      10.080679   1077.648844     87.303830   \n",
       "std       13.640433       2.572720   7385.292085    402.960219   \n",
       "min       17.000000       1.000000      0.000000      0.000000   \n",
       "25%       28.000000       9.000000      0.000000      0.000000   \n",
       "50%       37.000000      10.000000      0.000000      0.000000   \n",
       "75%       48.000000      12.000000      0.000000      0.000000   \n",
       "max       90.000000      16.000000  99999.000000   4356.000000   \n",
       "\n",
       "       hours_per_week  income_bracket  \n",
       "count    32561.000000    32561.000000  \n",
       "mean        40.437456        0.240810  \n",
       "std         12.347429        0.427581  \n",
       "min          1.000000        0.000000  \n",
       "25%         40.000000        0.000000  \n",
       "50%         40.000000        0.000000  \n",
       "75%         45.000000        0.000000  \n",
       "max         99.000000        1.000000  "
      ]
     },
     "execution_count": 16,
     "metadata": {},
     "output_type": "execute_result"
    }
   ],
   "source": [
    "census_data.describe()"
   ]
  },
  {
   "cell_type": "code",
   "execution_count": 17,
   "id": "ea68afa6",
   "metadata": {},
   "outputs": [],
   "source": [
    "from sklearn.model_selection import train_test_split\n",
    "\n",
    "x_data = census_data.drop(\"income_bracket\", axis=1)\n",
    "labels = census_data[\"income_bracket\"]\n",
    "\n",
    "X_train, X_test, y_train, y_test = train_test_split(x_data, labels, test_size=0.3, random_state=101)"
   ]
  },
  {
   "cell_type": "code",
   "execution_count": 23,
   "id": "38660d48",
   "metadata": {},
   "outputs": [
    {
     "name": "stdout",
     "output_type": "stream",
     "text": [
      "WARNING:tensorflow:From C:\\Users\\marco\\AppData\\Local\\Temp\\ipykernel_8008\\44334118.py:10: numeric_column (from tensorflow.python.feature_column.feature_column_v2) is deprecated and will be removed in a future version.\n",
      "Instructions for updating:\n",
      "Use Keras preprocessing layers instead, either directly or via the `tf.keras.utils.FeatureSpace` utility. Each of `tf.feature_column.*` has a functional equivalent in `tf.keras.layers` for feature preprocessing when training a Keras model.\n"
     ]
    }
   ],
   "source": [
    "categorical = [\"workclass\", \"education\", \"marital_status\", \"occupation\", \"relationship\", \"race\", \"gender\", \"native_country\"]\n",
    "numerical = [\"age\", \"education_num\", \"capital_gain\", \"capital_loss\", \"hours_per_week\"]\n",
    "\n",
    "feature_cols = []\n",
    "for col in categorical:\n",
    "    bucket_size = census_data[col].nunique()\n",
    "    feature_cols.append(tf.feature_column.categorical_column_with_hash_bucket(col, hash_bucket_size=bucket_size))\n",
    "    \n",
    "for col in numerical:\n",
    "    feature_cols.append(tf.feature_column.numeric_column(col))"
   ]
  },
  {
   "cell_type": "code",
   "execution_count": 36,
   "id": "a8765076",
   "metadata": {},
   "outputs": [],
   "source": [
    "input_func = tf.estimator.inputs.pandas_input_fn(x=X_train, y=y_train, batch_size=10, num_epochs=2000, shuffle=True)"
   ]
  },
  {
   "cell_type": "code",
   "execution_count": 37,
   "id": "8632ed19",
   "metadata": {},
   "outputs": [
    {
     "name": "stdout",
     "output_type": "stream",
     "text": [
      "INFO:tensorflow:Using default config.\n",
      "WARNING:tensorflow:Using temporary folder as model directory: C:\\Users\\marco\\AppData\\Local\\Temp\\tmpojtso76q\n",
      "INFO:tensorflow:Using config: {'_model_dir': 'C:\\\\Users\\\\marco\\\\AppData\\\\Local\\\\Temp\\\\tmpojtso76q', '_tf_random_seed': None, '_save_summary_steps': 100, '_save_checkpoints_steps': None, '_save_checkpoints_secs': 600, '_session_config': allow_soft_placement: true\n",
      "graph_options {\n",
      "  rewrite_options {\n",
      "    meta_optimizer_iterations: ONE\n",
      "  }\n",
      "}\n",
      ", '_keep_checkpoint_max': 5, '_keep_checkpoint_every_n_hours': 10000, '_log_step_count_steps': 100, '_train_distribute': None, '_device_fn': None, '_protocol': None, '_eval_distribute': None, '_experimental_distribute': None, '_experimental_max_worker_delay_secs': None, '_session_creation_timeout_secs': 7200, '_checkpoint_save_graph_def': True, '_service': None, '_cluster_spec': ClusterSpec({}), '_task_type': 'worker', '_task_id': 0, '_global_id_in_cluster': 0, '_master': '', '_evaluation_master': '', '_is_chief': True, '_num_ps_replicas': 0, '_num_worker_replicas': 1}\n"
     ]
    }
   ],
   "source": [
    "model = tf.estimator.LinearClassifier(feature_columns=feature_cols, n_classes=2)"
   ]
  },
  {
   "cell_type": "code",
   "execution_count": 38,
   "id": "d87f9df6",
   "metadata": {},
   "outputs": [
    {
     "name": "stdout",
     "output_type": "stream",
     "text": [
      "INFO:tensorflow:Calling model_fn.\n",
      "INFO:tensorflow:Done calling model_fn.\n",
      "INFO:tensorflow:Create CheckpointSaverHook.\n",
      "INFO:tensorflow:Graph was finalized.\n",
      "INFO:tensorflow:Running local_init_op.\n",
      "INFO:tensorflow:Done running local_init_op.\n",
      "INFO:tensorflow:Calling checkpoint listeners before saving checkpoint 0...\n",
      "INFO:tensorflow:Saving checkpoints for 0 into C:\\Users\\marco\\AppData\\Local\\Temp\\tmpojtso76q\\model.ckpt.\n",
      "INFO:tensorflow:Calling checkpoint listeners after saving checkpoint 0...\n",
      "INFO:tensorflow:loss = 6.931472, step = 1\n",
      "INFO:tensorflow:global_step/sec: 264.416\n",
      "INFO:tensorflow:loss = 105.2062, step = 101 (0.380 sec)\n",
      "INFO:tensorflow:global_step/sec: 539.313\n",
      "INFO:tensorflow:loss = 434.48932, step = 201 (0.185 sec)\n",
      "INFO:tensorflow:global_step/sec: 487.579\n",
      "INFO:tensorflow:loss = 7.0159388, step = 301 (0.203 sec)\n",
      "INFO:tensorflow:global_step/sec: 623.137\n",
      "INFO:tensorflow:loss = 30.913982, step = 401 (0.160 sec)\n",
      "INFO:tensorflow:global_step/sec: 601.6\n",
      "INFO:tensorflow:loss = 2.9536967, step = 501 (0.166 sec)\n",
      "INFO:tensorflow:global_step/sec: 544.211\n",
      "INFO:tensorflow:loss = 8.741336, step = 601 (0.184 sec)\n",
      "INFO:tensorflow:global_step/sec: 664.891\n",
      "INFO:tensorflow:loss = 52.684147, step = 701 (0.150 sec)\n",
      "INFO:tensorflow:global_step/sec: 527.252\n",
      "INFO:tensorflow:loss = 4.028784, step = 801 (0.190 sec)\n",
      "INFO:tensorflow:global_step/sec: 517.354\n",
      "INFO:tensorflow:loss = 3.116035, step = 901 (0.193 sec)\n",
      "INFO:tensorflow:global_step/sec: 606.296\n",
      "INFO:tensorflow:loss = 177.78316, step = 1001 (0.165 sec)\n",
      "INFO:tensorflow:global_step/sec: 645.744\n",
      "INFO:tensorflow:loss = 2.816852, step = 1101 (0.155 sec)\n",
      "INFO:tensorflow:global_step/sec: 612.893\n",
      "INFO:tensorflow:loss = 237.16283, step = 1201 (0.163 sec)\n",
      "INFO:tensorflow:global_step/sec: 575.229\n",
      "INFO:tensorflow:loss = 11.27387, step = 1301 (0.174 sec)\n",
      "INFO:tensorflow:global_step/sec: 547.582\n",
      "INFO:tensorflow:loss = 216.01225, step = 1401 (0.183 sec)\n",
      "INFO:tensorflow:global_step/sec: 626.78\n",
      "INFO:tensorflow:loss = 15.133751, step = 1501 (0.160 sec)\n",
      "INFO:tensorflow:global_step/sec: 597.678\n",
      "INFO:tensorflow:loss = 1.9765168, step = 1601 (0.167 sec)\n",
      "INFO:tensorflow:global_step/sec: 602.33\n",
      "INFO:tensorflow:loss = 5.149942, step = 1701 (0.166 sec)\n",
      "INFO:tensorflow:global_step/sec: 563.694\n",
      "INFO:tensorflow:loss = 2.4752672, step = 1801 (0.178 sec)\n",
      "INFO:tensorflow:global_step/sec: 562.369\n",
      "INFO:tensorflow:loss = 21.020042, step = 1901 (0.177 sec)\n",
      "INFO:tensorflow:global_step/sec: 538.35\n",
      "INFO:tensorflow:loss = 8.1406765, step = 2001 (0.200 sec)\n",
      "INFO:tensorflow:global_step/sec: 610.375\n",
      "INFO:tensorflow:loss = 3.826098, step = 2101 (0.150 sec)\n",
      "INFO:tensorflow:global_step/sec: 611.487\n",
      "INFO:tensorflow:loss = 3.848861, step = 2201 (0.164 sec)\n",
      "INFO:tensorflow:global_step/sec: 580.898\n",
      "INFO:tensorflow:loss = 63.302227, step = 2301 (0.172 sec)\n",
      "INFO:tensorflow:global_step/sec: 499.915\n",
      "INFO:tensorflow:loss = 0.416816, step = 2401 (0.202 sec)\n",
      "INFO:tensorflow:global_step/sec: 630.79\n",
      "INFO:tensorflow:loss = 4.236142, step = 2501 (0.157 sec)\n",
      "INFO:tensorflow:global_step/sec: 594.231\n",
      "INFO:tensorflow:loss = 4.198364, step = 2601 (0.170 sec)\n",
      "INFO:tensorflow:global_step/sec: 666.451\n",
      "INFO:tensorflow:loss = 3.0877616, step = 2701 (0.149 sec)\n",
      "INFO:tensorflow:global_step/sec: 663.411\n",
      "INFO:tensorflow:loss = 3.92988, step = 2801 (0.151 sec)\n",
      "INFO:tensorflow:global_step/sec: 528.715\n",
      "INFO:tensorflow:loss = 3.895219, step = 2901 (0.189 sec)\n",
      "INFO:tensorflow:global_step/sec: 564.5\n",
      "INFO:tensorflow:loss = 1.7084419, step = 3001 (0.177 sec)\n",
      "INFO:tensorflow:global_step/sec: 526.357\n",
      "INFO:tensorflow:loss = 2.766773, step = 3101 (0.190 sec)\n",
      "INFO:tensorflow:global_step/sec: 605.141\n",
      "INFO:tensorflow:loss = 22.990698, step = 3201 (0.165 sec)\n",
      "INFO:tensorflow:global_step/sec: 564.708\n",
      "INFO:tensorflow:loss = 5.819354, step = 3301 (0.177 sec)\n",
      "INFO:tensorflow:global_step/sec: 524.578\n",
      "INFO:tensorflow:loss = 5.0411744, step = 3401 (0.191 sec)\n",
      "INFO:tensorflow:global_step/sec: 502.578\n",
      "INFO:tensorflow:loss = 2.9610877, step = 3501 (0.200 sec)\n",
      "INFO:tensorflow:global_step/sec: 680.886\n",
      "INFO:tensorflow:loss = 14.913607, step = 3601 (0.161 sec)\n",
      "INFO:tensorflow:global_step/sec: 489.582\n",
      "INFO:tensorflow:loss = 5.100508, step = 3701 (0.189 sec)\n",
      "INFO:tensorflow:global_step/sec: 550.536\n",
      "INFO:tensorflow:loss = 78.07244, step = 3801 (0.185 sec)\n",
      "INFO:tensorflow:global_step/sec: 622.614\n",
      "INFO:tensorflow:loss = 2.1761427, step = 3901 (0.158 sec)\n",
      "INFO:tensorflow:global_step/sec: 580.371\n",
      "INFO:tensorflow:loss = 7.517619, step = 4001 (0.172 sec)\n",
      "INFO:tensorflow:global_step/sec: 566.01\n",
      "INFO:tensorflow:loss = 10.543219, step = 4101 (0.177 sec)\n",
      "INFO:tensorflow:global_step/sec: 596.355\n",
      "INFO:tensorflow:loss = 5.419936, step = 4201 (0.168 sec)\n",
      "INFO:tensorflow:global_step/sec: 633.373\n",
      "INFO:tensorflow:loss = 10.206945, step = 4301 (0.158 sec)\n",
      "INFO:tensorflow:global_step/sec: 549.438\n",
      "INFO:tensorflow:loss = 14.9663105, step = 4401 (0.183 sec)\n",
      "INFO:tensorflow:global_step/sec: 623.006\n",
      "INFO:tensorflow:loss = 11.469801, step = 4501 (0.159 sec)\n",
      "INFO:tensorflow:global_step/sec: 602.375\n",
      "INFO:tensorflow:loss = 37.924984, step = 4601 (0.166 sec)\n",
      "INFO:tensorflow:global_step/sec: 583.026\n",
      "INFO:tensorflow:loss = 2.323611, step = 4701 (0.172 sec)\n",
      "INFO:tensorflow:global_step/sec: 588.964\n",
      "INFO:tensorflow:loss = 8.214705, step = 4801 (0.170 sec)\n",
      "INFO:tensorflow:global_step/sec: 518.894\n",
      "INFO:tensorflow:loss = 4.1989965, step = 4901 (0.193 sec)\n",
      "INFO:tensorflow:Calling checkpoint listeners before saving checkpoint 5000...\n",
      "INFO:tensorflow:Saving checkpoints for 5000 into C:\\Users\\marco\\AppData\\Local\\Temp\\tmpojtso76q\\model.ckpt.\n",
      "INFO:tensorflow:Calling checkpoint listeners after saving checkpoint 5000...\n",
      "INFO:tensorflow:Loss for final step: 7.5020957.\n"
     ]
    },
    {
     "data": {
      "text/plain": [
       "<tensorflow_estimator.python.estimator.canned.linear.LinearClassifier at 0x28e06af04c0>"
      ]
     },
     "execution_count": 38,
     "metadata": {},
     "output_type": "execute_result"
    }
   ],
   "source": [
    "model.train(input_func, steps=5000)"
   ]
  },
  {
   "cell_type": "code",
   "execution_count": 39,
   "id": "e2316ae6",
   "metadata": {},
   "outputs": [],
   "source": [
    "pred_input_func = tf.estimator.inputs.pandas_input_fn(x=X_test, y=y_test, batch_size=10, num_epochs=1, shuffle=False)"
   ]
  },
  {
   "cell_type": "code",
   "execution_count": 44,
   "id": "b901c9b4",
   "metadata": {},
   "outputs": [
    {
     "name": "stdout",
     "output_type": "stream",
     "text": [
      "INFO:tensorflow:Calling model_fn.\n",
      "INFO:tensorflow:Done calling model_fn.\n",
      "INFO:tensorflow:Graph was finalized.\n",
      "INFO:tensorflow:Restoring parameters from C:\\Users\\marco\\AppData\\Local\\Temp\\tmpojtso76q\\model.ckpt-5000\n",
      "INFO:tensorflow:Running local_init_op.\n",
      "INFO:tensorflow:Done running local_init_op.\n"
     ]
    }
   ],
   "source": [
    "predictions = list(model.predict(pred_input_func))\n",
    "pred_classes = [x[\"class_ids\"][0] for x in predictions]"
   ]
  },
  {
   "cell_type": "code",
   "execution_count": 45,
   "id": "64b79be4",
   "metadata": {},
   "outputs": [
    {
     "name": "stdout",
     "output_type": "stream",
     "text": [
      "              precision    recall  f1-score   support\n",
      "\n",
      "           0       0.84      0.93      0.88      7436\n",
      "           1       0.66      0.41      0.51      2333\n",
      "\n",
      "    accuracy                           0.81      9769\n",
      "   macro avg       0.75      0.67      0.69      9769\n",
      "weighted avg       0.79      0.81      0.79      9769\n",
      "\n"
     ]
    }
   ],
   "source": [
    "from sklearn.metrics import classification_report\n",
    "\n",
    "print(classification_report(y_test, pred_classes))"
   ]
  },
  {
   "cell_type": "markdown",
   "id": "3b84b1a5",
   "metadata": {},
   "source": [
    "### Using DNN"
   ]
  },
  {
   "cell_type": "code",
   "execution_count": 57,
   "id": "5e745da8",
   "metadata": {},
   "outputs": [],
   "source": [
    "dense_feature_cols = []\n",
    "for col in categorical:\n",
    "    bucket_size = census_data[col].nunique()\n",
    "    cat_col = tf.feature_column.categorical_column_with_hash_bucket(col, hash_bucket_size=bucket_size)\n",
    "    dense_feature_cols.append(tf.feature_column.embedding_column(cat_col, dimension=bucket_size))\n",
    "    \n",
    "for col in numerical:\n",
    "    dense_feature_cols.append(tf.feature_column.numeric_column(col))"
   ]
  },
  {
   "cell_type": "code",
   "execution_count": 58,
   "id": "24318d11",
   "metadata": {},
   "outputs": [],
   "source": [
    "input_func = tf.estimator.inputs.pandas_input_fn(x=X_train, y=y_train, batch_size=10, num_epochs=2000, shuffle=True)\n",
    "pred_input_func = tf.estimator.inputs.pandas_input_fn(x=X_test, y=y_test, batch_size=10, num_epochs=1, shuffle=False)"
   ]
  },
  {
   "cell_type": "code",
   "execution_count": 59,
   "id": "e215ed5e",
   "metadata": {},
   "outputs": [
    {
     "name": "stdout",
     "output_type": "stream",
     "text": [
      "INFO:tensorflow:Using default config.\n",
      "WARNING:tensorflow:Using temporary folder as model directory: C:\\Users\\marco\\AppData\\Local\\Temp\\tmpmthyonux\n",
      "INFO:tensorflow:Using config: {'_model_dir': 'C:\\\\Users\\\\marco\\\\AppData\\\\Local\\\\Temp\\\\tmpmthyonux', '_tf_random_seed': None, '_save_summary_steps': 100, '_save_checkpoints_steps': None, '_save_checkpoints_secs': 600, '_session_config': allow_soft_placement: true\n",
      "graph_options {\n",
      "  rewrite_options {\n",
      "    meta_optimizer_iterations: ONE\n",
      "  }\n",
      "}\n",
      ", '_keep_checkpoint_max': 5, '_keep_checkpoint_every_n_hours': 10000, '_log_step_count_steps': 100, '_train_distribute': None, '_device_fn': None, '_protocol': None, '_eval_distribute': None, '_experimental_distribute': None, '_experimental_max_worker_delay_secs': None, '_session_creation_timeout_secs': 7200, '_checkpoint_save_graph_def': True, '_service': None, '_cluster_spec': ClusterSpec({}), '_task_type': 'worker', '_task_id': 0, '_global_id_in_cluster': 0, '_master': '', '_evaluation_master': '', '_is_chief': True, '_num_ps_replicas': 0, '_num_worker_replicas': 1}\n"
     ]
    }
   ],
   "source": [
    "model = tf.estimator.DNNClassifier(feature_columns=dense_feature_cols, hidden_units=[10,20,20,20,10], n_classes=2)"
   ]
  },
  {
   "cell_type": "code",
   "execution_count": 60,
   "id": "4ef2e5fe",
   "metadata": {},
   "outputs": [
    {
     "name": "stdout",
     "output_type": "stream",
     "text": [
      "INFO:tensorflow:Calling model_fn.\n",
      "WARNING:tensorflow:From C:\\Users\\marco\\.virtualenvs\\tensorflow_for_deep_learning-4C26M6Uv\\lib\\site-packages\\tensorflow\\python\\training\\adagrad.py:138: calling Constant.__init__ (from tensorflow.python.ops.init_ops) with dtype is deprecated and will be removed in a future version.\n",
      "Instructions for updating:\n",
      "Call initializer instance with the dtype argument instead of passing it to the constructor\n",
      "INFO:tensorflow:Done calling model_fn.\n",
      "INFO:tensorflow:Create CheckpointSaverHook.\n",
      "INFO:tensorflow:Graph was finalized.\n",
      "INFO:tensorflow:Running local_init_op.\n",
      "INFO:tensorflow:Done running local_init_op.\n",
      "INFO:tensorflow:Calling checkpoint listeners before saving checkpoint 0...\n",
      "INFO:tensorflow:Saving checkpoints for 0 into C:\\Users\\marco\\AppData\\Local\\Temp\\tmpmthyonux\\model.ckpt.\n",
      "INFO:tensorflow:Calling checkpoint listeners after saving checkpoint 0...\n",
      "INFO:tensorflow:loss = 15.524129, step = 1\n",
      "INFO:tensorflow:global_step/sec: 230.953\n",
      "INFO:tensorflow:loss = 4.823283, step = 101 (0.433 sec)\n",
      "INFO:tensorflow:global_step/sec: 592.69\n",
      "INFO:tensorflow:loss = 4.023287, step = 201 (0.184 sec)\n",
      "INFO:tensorflow:global_step/sec: 506.898\n",
      "INFO:tensorflow:loss = 6.4511466, step = 301 (0.182 sec)\n",
      "INFO:tensorflow:global_step/sec: 540.539\n",
      "INFO:tensorflow:loss = 5.4260983, step = 401 (0.185 sec)\n",
      "INFO:tensorflow:global_step/sec: 545.552\n",
      "INFO:tensorflow:loss = 2.3746881, step = 501 (0.183 sec)\n",
      "INFO:tensorflow:global_step/sec: 542.917\n",
      "INFO:tensorflow:loss = 5.1014657, step = 601 (0.184 sec)\n",
      "INFO:tensorflow:global_step/sec: 548.521\n",
      "INFO:tensorflow:loss = 4.02483, step = 701 (0.182 sec)\n",
      "INFO:tensorflow:global_step/sec: 545.43\n",
      "INFO:tensorflow:loss = 2.3874607, step = 801 (0.183 sec)\n",
      "INFO:tensorflow:global_step/sec: 542.593\n",
      "INFO:tensorflow:loss = 4.511652, step = 901 (0.184 sec)\n",
      "INFO:tensorflow:global_step/sec: 504.719\n",
      "INFO:tensorflow:loss = 5.6213756, step = 1001 (0.199 sec)\n",
      "INFO:tensorflow:global_step/sec: 547.269\n",
      "INFO:tensorflow:loss = 1.6245042, step = 1101 (0.182 sec)\n",
      "INFO:tensorflow:global_step/sec: 558.373\n",
      "INFO:tensorflow:loss = 4.1588526, step = 1201 (0.181 sec)\n",
      "INFO:tensorflow:global_step/sec: 501.653\n",
      "INFO:tensorflow:loss = 2.9621074, step = 1301 (0.197 sec)\n",
      "INFO:tensorflow:global_step/sec: 506.674\n",
      "INFO:tensorflow:loss = 2.8892524, step = 1401 (0.199 sec)\n",
      "INFO:tensorflow:global_step/sec: 496.858\n",
      "INFO:tensorflow:loss = 2.2018564, step = 1501 (0.199 sec)\n",
      "INFO:tensorflow:global_step/sec: 507.821\n",
      "INFO:tensorflow:loss = 3.7947102, step = 1601 (0.197 sec)\n",
      "INFO:tensorflow:global_step/sec: 526.11\n",
      "INFO:tensorflow:loss = 3.7184653, step = 1701 (0.191 sec)\n",
      "INFO:tensorflow:global_step/sec: 566.343\n",
      "INFO:tensorflow:loss = 3.5724428, step = 1801 (0.176 sec)\n",
      "INFO:tensorflow:global_step/sec: 560.011\n",
      "INFO:tensorflow:loss = 5.2123404, step = 1901 (0.194 sec)\n",
      "INFO:tensorflow:Calling checkpoint listeners before saving checkpoint 2000...\n",
      "INFO:tensorflow:Saving checkpoints for 2000 into C:\\Users\\marco\\AppData\\Local\\Temp\\tmpmthyonux\\model.ckpt.\n",
      "INFO:tensorflow:Calling checkpoint listeners after saving checkpoint 2000...\n",
      "INFO:tensorflow:Loss for final step: 1.5927061.\n"
     ]
    },
    {
     "data": {
      "text/plain": [
       "<tensorflow_estimator.python.estimator.canned.dnn.DNNClassifier at 0x28e7d084670>"
      ]
     },
     "execution_count": 60,
     "metadata": {},
     "output_type": "execute_result"
    }
   ],
   "source": [
    "model.train(input_func, steps=2000)"
   ]
  },
  {
   "cell_type": "code",
   "execution_count": 61,
   "id": "06f411ce",
   "metadata": {},
   "outputs": [
    {
     "name": "stdout",
     "output_type": "stream",
     "text": [
      "INFO:tensorflow:Calling model_fn.\n",
      "INFO:tensorflow:Done calling model_fn.\n",
      "INFO:tensorflow:Graph was finalized.\n",
      "INFO:tensorflow:Restoring parameters from C:\\Users\\marco\\AppData\\Local\\Temp\\tmpmthyonux\\model.ckpt-2000\n",
      "INFO:tensorflow:Running local_init_op.\n",
      "INFO:tensorflow:Done running local_init_op.\n"
     ]
    }
   ],
   "source": [
    "predictions = list(model.predict(pred_input_func))\n",
    "pred_classes = [x[\"class_ids\"][0] for x in predictions]"
   ]
  },
  {
   "cell_type": "code",
   "execution_count": 62,
   "id": "a49180a0",
   "metadata": {},
   "outputs": [
    {
     "name": "stdout",
     "output_type": "stream",
     "text": [
      "              precision    recall  f1-score   support\n",
      "\n",
      "           0       0.83      0.95      0.89      7436\n",
      "           1       0.72      0.37      0.49      2333\n",
      "\n",
      "    accuracy                           0.81      9769\n",
      "   macro avg       0.77      0.66      0.69      9769\n",
      "weighted avg       0.80      0.81      0.79      9769\n",
      "\n"
     ]
    }
   ],
   "source": [
    "print(classification_report(y_test, pred_classes))"
   ]
  },
  {
   "cell_type": "code",
   "execution_count": null,
   "id": "c35d22aa",
   "metadata": {},
   "outputs": [],
   "source": []
  }
 ],
 "metadata": {
  "kernelspec": {
   "display_name": "tfdl",
   "language": "python",
   "name": "tfdl"
  },
  "language_info": {
   "codemirror_mode": {
    "name": "ipython",
    "version": 3
   },
   "file_extension": ".py",
   "mimetype": "text/x-python",
   "name": "python",
   "nbconvert_exporter": "python",
   "pygments_lexer": "ipython3",
   "version": "3.10.10"
  }
 },
 "nbformat": 4,
 "nbformat_minor": 5
}
