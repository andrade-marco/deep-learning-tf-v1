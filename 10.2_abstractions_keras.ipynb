{
 "cells": [
  {
   "cell_type": "markdown",
   "id": "cb607e17",
   "metadata": {},
   "source": [
    "## Keras"
   ]
  },
  {
   "cell_type": "code",
   "execution_count": 5,
   "id": "6ae0098b",
   "metadata": {},
   "outputs": [],
   "source": [
    "# Getting and preprocessing data\n",
    "from sklearn.datasets import load_wine\n",
    "from sklearn.model_selection import train_test_split\n",
    "from sklearn.preprocessing import MinMaxScaler\n",
    "\n",
    "# Get data\n",
    "wine_data = load_wine()\n",
    "feat_data = wine_data[\"data\"]\n",
    "labels = wine_data[\"target\"]\n",
    "\n",
    "# Split into train/test\n",
    "X_train, X_test, y_train, y_test = train_test_split(feat_data, labels, test_size=0.3, random_state=101)\n",
    "\n",
    "# Preprocess - scaling\n",
    "scaler = MinMaxScaler()\n",
    "scaled_x_train = scaler.fit_transform(X_train)\n",
    "scaled_x_test = scaler.transform(X_test)"
   ]
  },
  {
   "cell_type": "code",
   "execution_count": 10,
   "id": "87781dd9",
   "metadata": {},
   "outputs": [],
   "source": [
    "import tensorflow as tf\n",
    "from tensorflow.contrib.keras import models, layers, losses, optimizers, metrics, activations"
   ]
  },
  {
   "cell_type": "code",
   "execution_count": 11,
   "id": "8a93238b",
   "metadata": {},
   "outputs": [],
   "source": [
    "dnn_keras_model = models.Sequential()"
   ]
  },
  {
   "cell_type": "code",
   "execution_count": 13,
   "id": "1231f381",
   "metadata": {},
   "outputs": [],
   "source": [
    "# First Layer - inputs\n",
    "dnn_keras_model.add(layers.Dense(units=13, input_dim=13, activation=activations.relu))\n",
    "\n",
    "# Hidden layers\n",
    "dnn_keras_model.add(layers.Dense(units=13, activation=activations.relu))\n",
    "dnn_keras_model.add(layers.Dense(units=13, activation=activations.relu))\n",
    "\n",
    "# Output layer\n",
    "dnn_keras_model.add(layers.Dense(units=3, activation=activations.softmax))"
   ]
  },
  {
   "cell_type": "code",
   "execution_count": 15,
   "id": "da752fc1",
   "metadata": {},
   "outputs": [],
   "source": [
    "dnn_keras_model.compile(optimizer=optimizers.Adam(), loss=losses.sparse_categorical_crossentropy, metrics=[\"accuracy\"])"
   ]
  },
  {
   "cell_type": "code",
   "execution_count": 16,
   "id": "f4008a09",
   "metadata": {},
   "outputs": [
    {
     "name": "stdout",
     "output_type": "stream",
     "text": [
      "Train on 124 samples\n",
      "Epoch 1/50\n",
      "124/124 [==============================] - 0s 2ms/sample - loss: 1.0951 - acc: 0.4677\n",
      "Epoch 2/50\n",
      "124/124 [==============================] - 0s 64us/sample - loss: 1.0890 - acc: 0.4435\n",
      "Epoch 3/50\n",
      "124/124 [==============================] - 0s 51us/sample - loss: 1.0846 - acc: 0.3226\n",
      "Epoch 4/50\n",
      "124/124 [==============================] - 0s 70us/sample - loss: 1.0800 - acc: 0.3226\n",
      "Epoch 5/50\n",
      "124/124 [==============================] - 0s 73us/sample - loss: 1.0747 - acc: 0.3226\n",
      "Epoch 6/50\n",
      "124/124 [==============================] - 0s 55us/sample - loss: 1.0698 - acc: 0.3387\n",
      "Epoch 7/50\n",
      "124/124 [==============================] - 0s 78us/sample - loss: 1.0621 - acc: 0.4032\n",
      "Epoch 8/50\n",
      "124/124 [==============================] - 0s 73us/sample - loss: 1.0545 - acc: 0.5000\n",
      "Epoch 9/50\n",
      "124/124 [==============================] - 0s 56us/sample - loss: 1.0455 - acc: 0.6129\n",
      "Epoch 10/50\n",
      "124/124 [==============================] - 0s 64us/sample - loss: 1.0368 - acc: 0.7097\n",
      "Epoch 11/50\n",
      "124/124 [==============================] - 0s 89us/sample - loss: 1.0261 - acc: 0.7581\n",
      "Epoch 12/50\n",
      "124/124 [==============================] - 0s 48us/sample - loss: 1.0139 - acc: 0.7581\n",
      "Epoch 13/50\n",
      "124/124 [==============================] - 0s 64us/sample - loss: 1.0010 - acc: 0.7742\n",
      "Epoch 14/50\n",
      "124/124 [==============================] - 0s 78us/sample - loss: 0.9870 - acc: 0.7661\n",
      "Epoch 15/50\n",
      "124/124 [==============================] - 0s 48us/sample - loss: 0.9714 - acc: 0.7581\n",
      "Epoch 16/50\n",
      "124/124 [==============================] - 0s 71us/sample - loss: 0.9544 - acc: 0.7742\n",
      "Epoch 17/50\n",
      "124/124 [==============================] - 0s 92us/sample - loss: 0.9369 - acc: 0.7823\n",
      "Epoch 18/50\n",
      "124/124 [==============================] - 0s 48us/sample - loss: 0.9179 - acc: 0.7742\n",
      "Epoch 19/50\n",
      "124/124 [==============================] - 0s 82us/sample - loss: 0.8975 - acc: 0.7581\n",
      "Epoch 20/50\n",
      "124/124 [==============================] - 0s 73us/sample - loss: 0.8769 - acc: 0.7903\n",
      "Epoch 21/50\n",
      "124/124 [==============================] - 0s 46us/sample - loss: 0.8544 - acc: 0.7903\n",
      "Epoch 22/50\n",
      "124/124 [==============================] - 0s 73us/sample - loss: 0.8341 - acc: 0.7903\n",
      "Epoch 23/50\n",
      "124/124 [==============================] - 0s 75us/sample - loss: 0.8097 - acc: 0.8065\n",
      "Epoch 24/50\n",
      "124/124 [==============================] - 0s 56us/sample - loss: 0.7851 - acc: 0.8306\n",
      "Epoch 25/50\n",
      "124/124 [==============================] - 0s 81us/sample - loss: 0.7602 - acc: 0.8387\n",
      "Epoch 26/50\n",
      "124/124 [==============================] - 0s 71us/sample - loss: 0.7348 - acc: 0.8387\n",
      "Epoch 27/50\n",
      "124/124 [==============================] - 0s 71us/sample - loss: 0.7069 - acc: 0.8548\n",
      "Epoch 28/50\n",
      "124/124 [==============================] - 0s 72us/sample - loss: 0.6798 - acc: 0.8871\n",
      "Epoch 29/50\n",
      "124/124 [==============================] - 0s 89us/sample - loss: 0.6493 - acc: 0.8790\n",
      "Epoch 30/50\n",
      "124/124 [==============================] - 0s 64us/sample - loss: 0.6207 - acc: 0.8629\n",
      "Epoch 31/50\n",
      "124/124 [==============================] - 0s 64us/sample - loss: 0.5891 - acc: 0.8952\n",
      "Epoch 32/50\n",
      "124/124 [==============================] - 0s 72us/sample - loss: 0.5607 - acc: 0.9194\n",
      "Epoch 33/50\n",
      "124/124 [==============================] - 0s 48us/sample - loss: 0.5308 - acc: 0.9113\n",
      "Epoch 34/50\n",
      "124/124 [==============================] - 0s 72us/sample - loss: 0.5021 - acc: 0.9274\n",
      "Epoch 35/50\n",
      "124/124 [==============================] - 0s 89us/sample - loss: 0.4773 - acc: 0.9274\n",
      "Epoch 36/50\n",
      "124/124 [==============================] - 0s 70us/sample - loss: 0.4514 - acc: 0.9516\n",
      "Epoch 37/50\n",
      "124/124 [==============================] - 0s 73us/sample - loss: 0.4265 - acc: 0.9677\n",
      "Epoch 38/50\n",
      "124/124 [==============================] - 0s 71us/sample - loss: 0.4041 - acc: 0.9355\n",
      "Epoch 39/50\n",
      "124/124 [==============================] - 0s 78us/sample - loss: 0.3823 - acc: 0.9677\n",
      "Epoch 40/50\n",
      "124/124 [==============================] - 0s 47us/sample - loss: 0.3643 - acc: 0.9516\n",
      "Epoch 41/50\n",
      "124/124 [==============================] - 0s 56us/sample - loss: 0.3363 - acc: 0.9597\n",
      "Epoch 42/50\n",
      "124/124 [==============================] - 0s 82us/sample - loss: 0.3172 - acc: 0.9839\n",
      "Epoch 43/50\n",
      "124/124 [==============================] - 0s 65us/sample - loss: 0.2956 - acc: 0.9839\n",
      "Epoch 44/50\n",
      "124/124 [==============================] - 0s 64us/sample - loss: 0.2776 - acc: 0.9839\n",
      "Epoch 45/50\n",
      "124/124 [==============================] - 0s 70us/sample - loss: 0.2593 - acc: 0.9919\n",
      "Epoch 46/50\n",
      "124/124 [==============================] - 0s 56us/sample - loss: 0.2418 - acc: 0.9919\n",
      "Epoch 47/50\n",
      "124/124 [==============================] - 0s 66us/sample - loss: 0.2243 - acc: 0.9919\n",
      "Epoch 48/50\n",
      "124/124 [==============================] - 0s 73us/sample - loss: 0.2071 - acc: 0.9919\n",
      "Epoch 49/50\n",
      "124/124 [==============================] - 0s 48us/sample - loss: 0.1930 - acc: 1.0000\n",
      "Epoch 50/50\n",
      "124/124 [==============================] - 0s 68us/sample - loss: 0.1793 - acc: 0.9919\n"
     ]
    },
    {
     "data": {
      "text/plain": [
       "<tensorflow.python.keras.callbacks.History at 0x20f0a689c48>"
      ]
     },
     "execution_count": 16,
     "metadata": {},
     "output_type": "execute_result"
    }
   ],
   "source": [
    "dnn_keras_model.fit(scaled_x_train, y_train, epochs=50)"
   ]
  },
  {
   "cell_type": "code",
   "execution_count": 20,
   "id": "a44c21ab",
   "metadata": {},
   "outputs": [],
   "source": [
    "predictions = dnn_keras_model.predict_classes(scaled_x_test)"
   ]
  },
  {
   "cell_type": "code",
   "execution_count": 21,
   "id": "ff7e1074",
   "metadata": {},
   "outputs": [],
   "source": [
    "from sklearn.metrics import classification_report"
   ]
  },
  {
   "cell_type": "code",
   "execution_count": 22,
   "id": "2a7e3e01",
   "metadata": {},
   "outputs": [
    {
     "name": "stdout",
     "output_type": "stream",
     "text": [
      "              precision    recall  f1-score   support\n",
      "\n",
      "           0       1.00      0.86      0.93        22\n",
      "           1       0.82      1.00      0.90        18\n",
      "           2       1.00      0.93      0.96        14\n",
      "\n",
      "    accuracy                           0.93        54\n",
      "   macro avg       0.94      0.93      0.93        54\n",
      "weighted avg       0.94      0.93      0.93        54\n",
      "\n"
     ]
    }
   ],
   "source": [
    "print(classification_report(predictions, y_test))"
   ]
  },
  {
   "cell_type": "code",
   "execution_count": null,
   "id": "10e2e0c2",
   "metadata": {},
   "outputs": [],
   "source": []
  }
 ],
 "metadata": {
  "kernelspec": {
   "display_name": "tfdl-v1",
   "language": "python",
   "name": "tfdl-v1"
  },
  "language_info": {
   "codemirror_mode": {
    "name": "ipython",
    "version": 3
   },
   "file_extension": ".py",
   "mimetype": "text/x-python",
   "name": "python",
   "nbconvert_exporter": "python",
   "pygments_lexer": "ipython3",
   "version": "3.7.9"
  }
 },
 "nbformat": 4,
 "nbformat_minor": 5
}
