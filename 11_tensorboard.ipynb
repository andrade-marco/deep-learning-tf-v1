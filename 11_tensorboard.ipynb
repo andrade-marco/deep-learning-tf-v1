{
 "cells": [
  {
   "cell_type": "code",
   "execution_count": 1,
   "id": "746a096f",
   "metadata": {},
   "outputs": [],
   "source": [
    "import tensorflow as tf"
   ]
  },
  {
   "cell_type": "code",
   "execution_count": 7,
   "id": "b069025a",
   "metadata": {},
   "outputs": [],
   "source": [
    "with tf.name_scope(\"OPERATION_A\"):\n",
    "    a = tf.add(1,2,name=\"FIRST_ADD\")\n",
    "    a1 = tf.add(100,200,name=\"A_ADD\")\n",
    "    a2 = tf.multiply(a,a1)\n",
    "\n",
    "with tf.name_scope(\"OPERATION_B\"):\n",
    "    b = tf.add(3,4,name=\"SECOND_ADD\")\n",
    "    b1 = tf.add(300,400, name=\"B_ADD\")\n",
    "    b2 = tf.multiply(b,b1)\n",
    "\n",
    "c = tf.multiply(a2,b2, name=\"FINAL_RESULT\")"
   ]
  },
  {
   "cell_type": "code",
   "execution_count": 8,
   "id": "d5494840",
   "metadata": {},
   "outputs": [
    {
     "name": "stdout",
     "output_type": "stream",
     "text": [
      "4410000\n"
     ]
    }
   ],
   "source": [
    "with tf.Session() as session:\n",
    "    writer = tf.summary.FileWriter(\"./output\", session.graph)\n",
    "    print(session.run(c))\n",
    "    writer.close()"
   ]
  },
  {
   "cell_type": "code",
   "execution_count": null,
   "id": "f2efd4f2",
   "metadata": {},
   "outputs": [],
   "source": []
  }
 ],
 "metadata": {
  "kernelspec": {
   "display_name": "tfdl-v1",
   "language": "python",
   "name": "tfdl-v1"
  },
  "language_info": {
   "codemirror_mode": {
    "name": "ipython",
    "version": 3
   },
   "file_extension": ".py",
   "mimetype": "text/x-python",
   "name": "python",
   "nbconvert_exporter": "python",
   "pygments_lexer": "ipython3",
   "version": "3.7.9"
  }
 },
 "nbformat": 4,
 "nbformat_minor": 5
}
